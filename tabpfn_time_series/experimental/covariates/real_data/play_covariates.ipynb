{
 "cells": [
  {
   "cell_type": "code",
   "execution_count": 1,
   "metadata": {},
   "outputs": [],
   "source": [
    "import os\n",
    "from datasets import load_dataset, Dataset\n",
    "from dotenv import load_dotenv\n",
    "\n",
    "load_dotenv()\n",
    "\n",
    "dataset: Dataset = load_dataset(\n",
    "    \"liamsbhoo/GiftEval\",\n",
    "    name=\"m4_hourly\",\n",
    "    cache_dir=os.getenv(\"HF_CACHE_DIR\"),\n",
    ")"
   ]
  },
  {
   "cell_type": "code",
   "execution_count": 2,
   "metadata": {},
   "outputs": [
    {
     "data": {
      "text/plain": [
       "Dataset({\n",
       "    features: ['item_id', 'start', 'freq', 'target'],\n",
       "    num_rows: 414\n",
       "})"
      ]
     },
     "execution_count": 2,
     "metadata": {},
     "output_type": "execute_result"
    }
   ],
   "source": [
    "dataset[\"train\"]"
   ]
  },
  {
   "cell_type": "code",
   "execution_count": 3,
   "metadata": {},
   "outputs": [
    {
     "data": {
      "text/plain": [
       "748"
      ]
     },
     "execution_count": 3,
     "metadata": {},
     "output_type": "execute_result"
    }
   ],
   "source": [
    "len(dataset[\"train\"][\"target\"][1])"
   ]
  },
  {
   "cell_type": "code",
   "execution_count": 4,
   "metadata": {},
   "outputs": [],
   "source": [
    "import os\n",
    "from dotenv import load_dotenv\n",
    "\n",
    "load_dotenv()\n",
    "from pathlib import Path\n",
    "from tabpfn_time_series.experimental.evaluation.evaluate_utils import (\n",
    "    construct_evaluation_data,\n",
    ")\n",
    "\n",
    "DATASET_NAME = \"m4_hourly\"\n",
    "\n",
    "# bull_dataset = construct_evaluation_data_with_covariates(\n",
    "#     dataset_name=\"pdb\",\n",
    "#     dataset_storage_path=Path(os.getenv(\"COVARIATE_DATASET_STORAGE_PATH\")),\n",
    "# )[0]\n",
    "\n",
    "dataset, metadata = construct_evaluation_data(\n",
    "    dataset_name=DATASET_NAME,\n",
    "    dataset_storage_path=Path(os.getenv(\"DATASET_STORAGE_PATH\")),\n",
    "    terms=[\"short\"],\n",
    ")[0]"
   ]
  },
  {
   "cell_type": "code",
   "execution_count": 5,
   "metadata": {},
   "outputs": [
    {
     "name": "stdout",
     "output_type": "stream",
     "text": [
      "Split training\n",
      " - length: 414\n",
      " - prediction length: 48\n",
      " - target dimension: 1\n",
      " - past feature dynamic real dimension: 0\n",
      " - number of samples: 414\n",
      "Split validation\n",
      " - length: 414\n",
      " - prediction length: 48\n",
      " - target dimension: 1\n",
      " - past feature dynamic real dimension: 0\n",
      " - number of samples: 414\n",
      "Split test\n",
      " - length: 414\n",
      " - prediction length: 48\n",
      " - target dimension: 1\n",
      " - past feature dynamic real dimension: 0\n",
      " - number of samples: 414\n"
     ]
    }
   ],
   "source": [
    "for s, name in [\n",
    "    (dataset.training_dataset, \"training\"),\n",
    "    (dataset.validation_dataset, \"validation\"),\n",
    "    (dataset.test_data, \"test\"),\n",
    "]:\n",
    "    print(f\"Split {name}\")\n",
    "    print(f\" - length: {len(s)}\")\n",
    "    print(f\" - prediction length: {dataset.prediction_length}\")\n",
    "    print(f\" - target dimension: {dataset.target_dim}\")\n",
    "    print(\n",
    "        f\" - past feature dynamic real dimension: {dataset.past_feat_dynamic_real_dim}\"\n",
    "    )\n",
    "\n",
    "    # Find out number of samples in each split\n",
    "    n_samples = 0\n",
    "    it = iter(s)\n",
    "    while True:\n",
    "        try:\n",
    "            next(it)\n",
    "            n_samples += 1\n",
    "        except StopIteration:\n",
    "            break\n",
    "    print(f\" - number of samples: {n_samples}\")"
   ]
  },
  {
   "cell_type": "code",
   "execution_count": 6,
   "metadata": {},
   "outputs": [],
   "source": [
    "train_sample = next(iter(dataset.training_dataset))\n",
    "val_sample = next(iter(dataset.validation_dataset))\n",
    "test_sample = next(iter(dataset.test_data))"
   ]
  },
  {
   "cell_type": "code",
   "execution_count": 7,
   "metadata": {},
   "outputs": [
    {
     "data": {
      "text/plain": [
       "TrainingDataset(dataset=Map(fn=Compose(<function Dataset.__init__.<locals>.process_with_covariate_shape at 0x7fd0eb5540d0>, <function itemize_start at 0x7fcfaad4f370>), iterable=Dataset({\n",
       "    features: ['item_id', 'start', 'freq', 'target'],\n",
       "    num_rows: 414\n",
       "})), splitter=OffsetSplitter(offset=-96))"
      ]
     },
     "execution_count": 7,
     "metadata": {},
     "output_type": "execute_result"
    }
   ],
   "source": [
    "dataset.training_dataset"
   ]
  },
  {
   "cell_type": "code",
   "execution_count": 8,
   "metadata": {},
   "outputs": [
    {
     "data": {
      "text/plain": [
       "(652,)"
      ]
     },
     "execution_count": 8,
     "metadata": {},
     "output_type": "execute_result"
    }
   ],
   "source": [
    "train_sample[\"target\"].shape"
   ]
  },
  {
   "cell_type": "code",
   "execution_count": 9,
   "metadata": {},
   "outputs": [
    {
     "data": {
      "text/plain": [
       "(700,)"
      ]
     },
     "execution_count": 9,
     "metadata": {},
     "output_type": "execute_result"
    }
   ],
   "source": [
    "val_sample[\"target\"].shape"
   ]
  },
  {
   "cell_type": "code",
   "execution_count": 10,
   "metadata": {},
   "outputs": [
    {
     "data": {
      "text/plain": [
       "((700,), (48,))"
      ]
     },
     "execution_count": 10,
     "metadata": {},
     "output_type": "execute_result"
    }
   ],
   "source": [
    "test_sample[0][\"target\"].shape, test_sample[1][\"target\"].shape"
   ]
  },
  {
   "cell_type": "code",
   "execution_count": 11,
   "metadata": {},
   "outputs": [
    {
     "ename": "NameError",
     "evalue": "name 'sample' is not defined",
     "output_type": "error",
     "traceback": [
      "\u001b[0;31m---------------------------------------------------------------------------\u001b[0m",
      "\u001b[0;31mNameError\u001b[0m                                 Traceback (most recent call last)",
      "Cell \u001b[0;32mIn[11], line 2\u001b[0m\n\u001b[1;32m      1\u001b[0m \u001b[38;5;28;01mimport\u001b[39;00m\u001b[38;5;250m \u001b[39m\u001b[38;5;21;01mnumpy\u001b[39;00m\u001b[38;5;250m \u001b[39m\u001b[38;5;28;01mas\u001b[39;00m\u001b[38;5;250m \u001b[39m\u001b[38;5;21;01mnp\u001b[39;00m\n\u001b[0;32m----> 2\u001b[0m np\u001b[38;5;241m.\u001b[39marray(\u001b[43msample\u001b[49m[\u001b[38;5;241m0\u001b[39m][\u001b[38;5;124m\"\u001b[39m\u001b[38;5;124mpast_feat_dynamic_real\u001b[39m\u001b[38;5;124m\"\u001b[39m])\u001b[38;5;241m.\u001b[39mshape\n",
      "\u001b[0;31mNameError\u001b[0m: name 'sample' is not defined"
     ]
    }
   ],
   "source": [
    "import numpy as np\n",
    "\n",
    "np.array(sample[0][\"past_feat_dynamic_real\"]).shape"
   ]
  },
  {
   "cell_type": "code",
   "execution_count": 44,
   "metadata": {},
   "outputs": [
    {
     "data": {
      "text/html": [
       "<div>\n",
       "<style scoped>\n",
       "    .dataframe tbody tr th:only-of-type {\n",
       "        vertical-align: middle;\n",
       "    }\n",
       "\n",
       "    .dataframe tbody tr th {\n",
       "        vertical-align: top;\n",
       "    }\n",
       "\n",
       "    .dataframe thead th {\n",
       "        text-align: right;\n",
       "    }\n",
       "</style>\n",
       "<table border=\"1\" class=\"dataframe\">\n",
       "  <thead>\n",
       "    <tr style=\"text-align: right;\">\n",
       "      <th></th>\n",
       "      <th>feature_0</th>\n",
       "    </tr>\n",
       "  </thead>\n",
       "  <tbody>\n",
       "    <tr>\n",
       "      <th>0</th>\n",
       "      <td>33.0</td>\n",
       "    </tr>\n",
       "    <tr>\n",
       "      <th>1</th>\n",
       "      <td>33.0</td>\n",
       "    </tr>\n",
       "    <tr>\n",
       "      <th>2</th>\n",
       "      <td>33.0</td>\n",
       "    </tr>\n",
       "    <tr>\n",
       "      <th>3</th>\n",
       "      <td>34.0</td>\n",
       "    </tr>\n",
       "    <tr>\n",
       "      <th>4</th>\n",
       "      <td>33.0</td>\n",
       "    </tr>\n",
       "    <tr>\n",
       "      <th>...</th>\n",
       "      <td>...</td>\n",
       "    </tr>\n",
       "    <tr>\n",
       "      <th>17467</th>\n",
       "      <td>32.0</td>\n",
       "    </tr>\n",
       "    <tr>\n",
       "      <th>17468</th>\n",
       "      <td>31.0</td>\n",
       "    </tr>\n",
       "    <tr>\n",
       "      <th>17469</th>\n",
       "      <td>30.0</td>\n",
       "    </tr>\n",
       "    <tr>\n",
       "      <th>17470</th>\n",
       "      <td>29.0</td>\n",
       "    </tr>\n",
       "    <tr>\n",
       "      <th>17471</th>\n",
       "      <td>28.0</td>\n",
       "    </tr>\n",
       "  </tbody>\n",
       "</table>\n",
       "<p>17472 rows × 1 columns</p>\n",
       "</div>"
      ],
      "text/plain": [
       "       feature_0\n",
       "0           33.0\n",
       "1           33.0\n",
       "2           33.0\n",
       "3           34.0\n",
       "4           33.0\n",
       "...          ...\n",
       "17467       32.0\n",
       "17468       31.0\n",
       "17469       30.0\n",
       "17470       29.0\n",
       "17471       28.0\n",
       "\n",
       "[17472 rows x 1 columns]"
      ]
     },
     "execution_count": 44,
     "metadata": {},
     "output_type": "execute_result"
    }
   ],
   "source": [
    "import numpy as np\n",
    "import pandas as pd\n",
    "\n",
    "# Get the past features data\n",
    "past_features = sample[0][\"past_feat_dynamic_real\"]\n",
    "\n",
    "# Convert to DataFrame\n",
    "# Assuming the features are time series with multiple variables\n",
    "# Create a DataFrame with appropriate column names\n",
    "feature_names = [f\"feature_{i}\" for i in range(past_features.shape[0])]\n",
    "df = pd.DataFrame(past_features.T, columns=feature_names)\n",
    "\n",
    "# Display the DataFrame\n",
    "df"
   ]
  },
  {
   "cell_type": "code",
   "execution_count": 45,
   "metadata": {},
   "outputs": [
    {
     "ename": "TypeError",
     "evalue": "'Dataset' object is not subscriptable",
     "output_type": "error",
     "traceback": [
      "\u001b[0;31m---------------------------------------------------------------------------\u001b[0m",
      "\u001b[0;31mTypeError\u001b[0m                                 Traceback (most recent call last)",
      "Cell \u001b[0;32mIn[45], line 2\u001b[0m\n\u001b[1;32m      1\u001b[0m \u001b[38;5;28;01mimport\u001b[39;00m\u001b[38;5;250m \u001b[39m\u001b[38;5;21;01mnumpy\u001b[39;00m\u001b[38;5;250m \u001b[39m\u001b[38;5;28;01mas\u001b[39;00m\u001b[38;5;250m \u001b[39m\u001b[38;5;21;01mnp\u001b[39;00m\n\u001b[0;32m----> 2\u001b[0m np\u001b[38;5;241m.\u001b[39marray(\u001b[43mdataset\u001b[49m\u001b[43m[\u001b[49m\u001b[38;5;124;43m\"\u001b[39;49m\u001b[38;5;124;43mtrain\u001b[39;49m\u001b[38;5;124;43m\"\u001b[39;49m\u001b[43m]\u001b[49m[\u001b[38;5;241m0\u001b[39m][\u001b[38;5;124m\"\u001b[39m\u001b[38;5;124mpast_feat_dynamic_real\u001b[39m\u001b[38;5;124m\"\u001b[39m])\u001b[38;5;241m.\u001b[39mshape\n",
      "\u001b[0;31mTypeError\u001b[0m: 'Dataset' object is not subscriptable"
     ]
    }
   ],
   "source": [
    "import numpy as np\n",
    "\n",
    "np.array(dataset[\"train\"][0][\"past_feat_dynamic_real\"]).shape"
   ]
  },
  {
   "cell_type": "code",
   "execution_count": null,
   "metadata": {},
   "outputs": [],
   "source": [
    "np.array(dataset[\"train\"][0][\"target\"]).shape"
   ]
  },
  {
   "cell_type": "code",
   "execution_count": null,
   "metadata": {},
   "outputs": [],
   "source": [
    "# Iterate through the dataset and print each sample\n",
    "for i, sample in enumerate(dataset[\"train\"]):\n",
    "    print(f\"Sample {i}:\")\n",
    "    print(sample)\n",
    "    print(\"-\" * 50)  # Add a separator between samples\n",
    "    if i > 10:\n",
    "        break"
   ]
  },
  {
   "cell_type": "code",
   "execution_count": null,
   "metadata": {},
   "outputs": [],
   "source": []
  }
 ],
 "metadata": {
  "kernelspec": {
   "display_name": "Python 3",
   "language": "python",
   "name": "python3"
  },
  "language_info": {
   "codemirror_mode": {
    "name": "ipython",
    "version": 3
   },
   "file_extension": ".py",
   "mimetype": "text/x-python",
   "name": "python",
   "nbconvert_exporter": "python",
   "pygments_lexer": "ipython3",
   "version": "3.10.17"
  }
 },
 "nbformat": 4,
 "nbformat_minor": 2
}
